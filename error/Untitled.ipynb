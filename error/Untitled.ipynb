{
 "cells": [
  {
   "cell_type": "code",
   "execution_count": 21,
   "metadata": {},
   "outputs": [
    {
     "name": "stdout",
     "output_type": "stream",
     "text": [
      "2002-10-02 00:00:00\n",
      "2013-10-11 00:00:00\n",
      "1977-08-18 00:00:00\n"
     ]
    }
   ],
   "source": [
    "from datetime import datetime\n",
    "moscou_time = 'October 2 2002'\n",
    "guardian = 'Friday 11.10.13'\n",
    "daly_news = 'Thursday, 18 August 1977'\n",
    "\n",
    "paper_mt = datetime.strptime (moscou_time, '%B %d %Y')\n",
    "print (paper_mt)\n",
    "\n",
    "paper_guard = datetime.strptime (guardian, '%A %d.%m.%y')\n",
    "print (paper_guard)\n",
    "\n",
    "paper_dn = datetime.strptime (daly_news, '%A, %d %B %Y')\n",
    "print (paper_dn)"
   ]
  },
  {
   "cell_type": "code",
   "execution_count": 15,
   "metadata": {},
   "outputs": [
    {
     "name": "stdout",
     "output_type": "stream",
     "text": [
      "Корректная дата:  2018-04-02\n",
      "Неорректная дата:  2018-02-29\n",
      "Неорректная дата:  2018-19-02\n"
     ]
    }
   ],
   "source": [
    "from datetime import datetime\n",
    "stream = ['2018-04-02', '2018-02-29', '2018-19-02']\n",
    "def check_data(x):\n",
    "    for i in x:\n",
    "        try:\n",
    "            if a == datetime.strptime (i,'%Y-%m-%d'):\n",
    "                print('Корректная дата: ', i)        \n",
    "        except: \n",
    "                print('Неорректная дата: ', i) \n",
    "\n",
    "check_data (stream)"
   ]
  },
  {
   "cell_type": "code",
   "execution_count": 37,
   "metadata": {},
   "outputs": [
    {
     "name": "stdout",
     "output_type": "stream",
     "text": [
      "Введите начальную дату: 5454894\n",
      "Вводишь дату некорректно\n",
      "[]\n"
     ]
    }
   ],
   "source": [
    "def date_range ():\n",
    "    from datetime import datetime, timedelta\n",
    "    data_list = []\n",
    "    try:\n",
    "        start_date = input('Введите начальную дату: ', )\n",
    "        start_date_datetime = datetime.strptime(start_date, '%Y-%m-%d')\n",
    "        end_date = input('Введите конечную дату: ', )\n",
    "        end_date_datetime = datetime.strptime(end_date, '%Y-%m-%d')\n",
    "        delta = end_date_datetime - start_date_datetime     \n",
    "        if delta.days<=0:\n",
    "            print (data_list)\n",
    "        else:\n",
    "             for i in range(delta.days + 1):\n",
    "                    a = start_date_datetime + timedelta(i)\n",
    "                    data_list.append(a)\n",
    "        print (data_list)\n",
    "    except ValueError:\n",
    "        print ('Вводишь дату некорректно')\n",
    "        print (data_list)\n",
    "        \n",
    "date_range ()"
   ]
  },
  {
   "cell_type": "code",
   "execution_count": null,
   "metadata": {},
   "outputs": [],
   "source": [
    "Бонучное задание:\n",
    "    1. Что значит ошибка list index out of range? Означает что обращаемся по индексу,которого нет в списке. Список короче чем значение индекса.\n",
    "    2. Почему при первом запуске функция работает корректно, а при втором - нет? "
   ]
  }
 ],
 "metadata": {
  "kernelspec": {
   "display_name": "Python 3",
   "language": "python",
   "name": "python3"
  },
  "language_info": {
   "codemirror_mode": {
    "name": "ipython",
    "version": 3
   },
   "file_extension": ".py",
   "mimetype": "text/x-python",
   "name": "python",
   "nbconvert_exporter": "python",
   "pygments_lexer": "ipython3",
   "version": "3.7.6"
  }
 },
 "nbformat": 4,
 "nbformat_minor": 4
}
